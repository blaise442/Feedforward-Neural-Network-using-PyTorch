{
 "cells": [
  {
   "cell_type": "markdown",
   "id": "4ac2ff67-6665-46a9-b779-28935edb40d1",
   "metadata": {
    "tags": []
   },
   "source": [
    "## Name : Blaise Wangmeni \n",
    "## Student ID : 2041120\n",
    "## course: COSC6328\n",
    "## course Name :Deep Learning\n"
   ]
  },
  {
   "cell_type": "code",
   "execution_count": null,
   "id": "b064f29f-5a67-4d2c-9588-3114a5a26724",
   "metadata": {},
   "outputs": [],
   "source": []
  },
  {
   "cell_type": "code",
   "execution_count": null,
   "id": "efde6fc3-f677-4d2a-8b2f-b0fc10436dd3",
   "metadata": {},
   "outputs": [],
   "source": [
    "import torch\n",
    "import pandas as pd\n",
    "\n",
    "# Load the dataset\n",
    "url = 'https://archive.ics.uci.edu/ml/machine-learning-databases/iris/iris.data'\n",
    "iris = pd.read_csv(url, header=None)\n",
    "\n",
    "# Convert the dataset to PyTorch tensors\n",
    "X = torch.tensor(iris.iloc[:, :-1].values).float()\n",
    "y = torch.tensor(pd.Categorical(iris.iloc[:, -1]).codes).long()\n"
   ]
  },
  {
   "cell_type": "code",
   "execution_count": null,
   "id": "a7964b7c-ff52-4ffc-8e00-a077ebb653ec",
   "metadata": {},
   "outputs": [],
   "source": []
  }
 ],
 "metadata": {
  "kernelspec": {
   "display_name": "conda_python3",
   "language": "python",
   "name": "conda_python3"
  },
  "language_info": {
   "codemirror_mode": {
    "name": "ipython",
    "version": 3
   },
   "file_extension": ".py",
   "mimetype": "text/x-python",
   "name": "python",
   "nbconvert_exporter": "python",
   "pygments_lexer": "ipython3",
   "version": "3.10.8"
  }
 },
 "nbformat": 4,
 "nbformat_minor": 5
}
